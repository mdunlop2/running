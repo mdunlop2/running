{
 "cells": [
  {
   "cell_type": "code",
   "execution_count": 1,
   "id": "1cb1050a",
   "metadata": {},
   "outputs": [],
   "source": [
    "import serial"
   ]
  },
  {
   "cell_type": "code",
   "execution_count": 81,
   "id": "d56fbef2",
   "metadata": {},
   "outputs": [],
   "source": [
    "import datetime as dt\n",
    "import pandas as pd\n",
    "import numpy as np\n",
    "import matplotlib as plt\n",
    "%matplotlib inline\n",
    "\n",
    "def gather_data(runtime=dt.timedelta(seconds=30), timeout=10):\n",
    "    start_dt = dt.datetime.now()\n",
    "    current_time = start_dt\n",
    "    # data storage\n",
    "    data = []\n",
    "    with serial.Serial(\"/dev/ttyUSB0\", 9600, timeout=timeout) as ser:\n",
    "        while current_time < start_dt + runtime:\n",
    "            try:\n",
    "                line = ser.readline().decode().rstrip()\n",
    "                data.append((current_time, line))\n",
    "            except UnicodeDecodeError as e:\n",
    "                print(e)\n",
    "            except Exception as e:\n",
    "                raise e\n",
    "            current_time = dt.datetime.now()\n",
    "    df = pd.DataFrame(data)\n",
    "    df.columns = [\"time\", \"distance\"]\n",
    "    df[\"distance\"] = df[\"distance\"].astype(np.float32)\n",
    "    df = df.set_index(\"time\")\n",
    "    df = df.loc[df[\"distance\"]<400]\n",
    "    del data\n",
    "    return df\n",
    "\n",
    "df = gather_data()"
   ]
  },
  {
   "cell_type": "code",
   "execution_count": 82,
   "id": "e23bc99a",
   "metadata": {},
   "outputs": [
    {
     "data": {
      "text/plain": [
       "5964"
      ]
     },
     "execution_count": 82,
     "metadata": {},
     "output_type": "execute_result"
    }
   ],
   "source": [
    "len(df)"
   ]
  },
  {
   "cell_type": "code",
   "execution_count": 83,
   "id": "9aa549fd",
   "metadata": {},
   "outputs": [
    {
     "data": {
      "text/plain": [
       "<AxesSubplot:xlabel='time'>"
      ]
     },
     "execution_count": 83,
     "metadata": {},
     "output_type": "execute_result"
    },
    {
     "data": {
      "image/png": "[encoded data removed]",
      "text/plain": [
       "<Figure size 432x288 with 1 Axes>"
      ]
     },
     "metadata": {
      "needs_background": "light"
     },
     "output_type": "display_data"
    }
   ],
   "source": [
    "df[\"distance\"].astype(np.float32).plot()"
   ]
  },
  {
   "cell_type": "markdown",
   "id": "7cf40095",
   "metadata": {},
   "source": [
    "# Simple Run Timer\n",
    "\n",
    "1. Measure the base environment\n",
    "2. Detect if something causes distance to fall\n",
    "\n",
    "\n",
    "\n",
    "\n",
    "\n",
    "\n",
    "\n",
    "\n",
    "\n",
    "\n"
   ]
  },
  {
   "cell_type": "code",
   "execution_count": null,
   "id": "6974ddd1",
   "metadata": {},
   "outputs": [],
   "source": [
    "def measure_time(timeout = dt.timedelta(minutes=1)):\n",
    "    # perform calibration\n",
    "    calib = gather_data(runtime=dt.timedelta(seconds=30), timeout=10)"
   ]
  },
  {
   "cell_type": "code",
   "execution_count": 54,
   "id": "60d7e2b7",
   "metadata": {},
   "outputs": [
    {
     "data": {
      "text/plain": [
       "'224'"
      ]
     },
     "execution_count": 54,
     "metadata": {},
     "output_type": "execute_result"
    }
   ],
   "source": [
    "x.decode().rstrip()"
   ]
  },
  {
   "cell_type": "code",
   "execution_count": null,
   "id": "5ed0878c",
   "metadata": {},
   "outputs": [],
   "source": []
  }
 ],
 "metadata": {
  "kernelspec": {
   "display_name": "Python 3",
   "language": "python",
   "name": "python3"
  },
  "language_info": {
   "codemirror_mode": {
    "name": "ipython",
    "version": 3
   },
   "file_extension": ".py",
   "mimetype": "text/x-python",
   "name": "python",
   "nbconvert_exporter": "python",
   "pygments_lexer": "ipython3",
   "version": "3.8.10"
  }
 },
 "nbformat": 4,
 "nbformat_minor": 5
}
